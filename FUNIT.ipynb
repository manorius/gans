{
  "nbformat": 4,
  "nbformat_minor": 0,
  "metadata": {
    "colab": {
      "name": "FUNIT.ipynb",
      "provenance": [],
      "collapsed_sections": [],
      "include_colab_link": true
    },
    "kernelspec": {
      "name": "python3",
      "display_name": "Python 3"
    },
    "accelerator": "GPU"
  },
  "cells": [
    {
      "cell_type": "markdown",
      "metadata": {
        "id": "view-in-github",
        "colab_type": "text"
      },
      "source": [
        "<a href=\"https://colab.research.google.com/github/bkkaggle/gans/blob/master/FUNIT.ipynb\" target=\"_parent\"><img src=\"https://colab.research.google.com/assets/colab-badge.svg\" alt=\"Open In Colab\"/></a>"
      ]
    },
    {
      "cell_type": "code",
      "metadata": {
        "id": "TRm-USlsHgEV",
        "colab_type": "code",
        "colab": {}
      },
      "source": [
        "!git clone https://github.com/NVlabs/FUNIT.git"
      ],
      "execution_count": 0,
      "outputs": []
    },
    {
      "cell_type": "code",
      "metadata": {
        "id": "QI8eg6xqkXgx",
        "colab_type": "code",
        "colab": {}
      },
      "source": [
        "!pip install --upgrade PyYAML"
      ],
      "execution_count": 0,
      "outputs": []
    },
    {
      "cell_type": "code",
      "metadata": {
        "id": "Pt3igws3eiVp",
        "colab_type": "code",
        "colab": {}
      },
      "source": [
        "import os\n",
        "os.chdir('FUNIT/')"
      ],
      "execution_count": 0,
      "outputs": []
    },
    {
      "cell_type": "code",
      "metadata": {
        "id": "b08GjkOwi6My",
        "colab_type": "code",
        "colab": {}
      },
      "source": [
        "!wget https://github.com/gdrive-org/gdrive/releases/download/2.1.0/gdrive-linux-x64\n",
        "!mv gdrive-linux-x64 gdrive\n",
        "!chmod +x gdrive\n",
        "!./gdrive about"
      ],
      "execution_count": 0,
      "outputs": []
    },
    {
      "cell_type": "code",
      "metadata": {
        "id": "MsKQvxoGjCy9",
        "colab_type": "code",
        "colab": {}
      },
      "source": [
        "!./gdrive download 1CsmSSWyMngtOLUL5lI-sEHVWc2gdJpF9\n",
        "!mkdir pretrained\n",
        "!mv pretrained.tar.gz pretrained/\n",
        "os.chdir('./pretrained/')\n",
        "!tar -xf pretrained.tar.gz\n",
        "os.chdir('../')"
      ],
      "execution_count": 0,
      "outputs": []
    },
    {
      "cell_type": "code",
      "metadata": {
        "id": "Vu8eXLTFHvnn",
        "colab_type": "code",
        "colab": {}
      },
      "source": [
        "!python test_k_shot.py --config configs/funit_animals.yaml --ckpt pretrained/animal149_gen.pt --input images/input_content.jpg --class_image_folder images/n02138411 --output ./output.jpg"
      ],
      "execution_count": 0,
      "outputs": []
    },
    {
      "cell_type": "markdown",
      "metadata": {
        "id": "wcghR5rXjQwK",
        "colab_type": "text"
      },
      "source": [
        "Point `--input` to the image you want to transform, `--class_image_folder` to a folder with a few images of the class you want to transform the input image to, and `--output` to the path for the output image.\n"
      ]
    },
    {
      "cell_type": "code",
      "metadata": {
        "id": "liG0TbXMq5I2",
        "colab_type": "code",
        "colab": {}
      },
      "source": [
        "import matplotlib.pyplot as plt\n",
        "\n",
        "img = plt.imread('./output.jpg')\n",
        "plt.imshow(img)"
      ],
      "execution_count": 0,
      "outputs": []
    }
  ]
}